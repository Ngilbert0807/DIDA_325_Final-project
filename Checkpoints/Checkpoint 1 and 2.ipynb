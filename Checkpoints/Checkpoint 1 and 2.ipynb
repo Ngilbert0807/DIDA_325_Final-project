{
 "cells": [
  {
   "cell_type": "markdown",
   "metadata": {},
   "source": [
    "325 Final Project: Nathaniel Gilbert, Emile Rebillard, Thomas Sorensen, Angelina Ponce"
   ]
  },
  {
   "cell_type": "code",
   "execution_count": 1,
   "metadata": {},
   "outputs": [],
   "source": [
    "import pandas as pd"
   ]
  },
  {
   "cell_type": "markdown",
   "metadata": {},
   "source": [
    "Introduction\n",
    "\n",
    "We are data analysts employeed by the NCAA. We were given the assigment to study the given dataset to find any noticeable trends that should be researched further. We are going to focus on the Academic Progress Rate (APR), which is a calculation based off how many athletes on a team remain academiclly elligible and with the university. Most of the data within the NCAA dataset is not gathered by the NCAA. In fact, almost all of it is gathered by the member schools, and then shared with the NCAA. However, some of this data has been directly gathered by the NCAA."
   ]
  },
  {
   "cell_type": "code",
   "execution_count": 4,
   "metadata": {},
   "outputs": [],
   "source": [
    "raw_data = pd.read_csv('C:/Users/natha/OneDrive/Documents/GitHub/DIDA_325_Final-project/csvs/raw data.csv')\n",
    "drops=[0,12,20,85]\n",
    "raw_data.drop(raw_data.columns[drops], axis=1, inplace=True)\n",
    "# These columns were dropped because they were entirely empty.\n",
    "\n",
    "cols_to_fill = list(range(82, 97)) # the columns we want to fill are the 83rd to 98th columns (0-indexed) so we are creating a list of their indices using the range function. \n",
    "raw_data.iloc[:, cols_to_fill] = raw_data.iloc[:, cols_to_fill].fillna(0)\n",
    "# These columns were filled with 0s because some were empty but the documnetation said they should be 0s."
   ]
  },
  {
   "cell_type": "code",
   "execution_count": 13,
   "metadata": {},
   "outputs": [
    {
     "name": "stdout",
     "output_type": "stream",
     "text": [
      "D1_FB_CONF_19                     1578\n",
      "ELIG_RATE_2004                     900\n",
      "APR_RATE_2004_1000                 900\n",
      "NUM_OF_ATHLETES_2004               900\n",
      "RET_RATE_2004                      900\n",
      "ELIG_RATE_2005                     867\n",
      "APR_RATE_2005_1000                 867\n",
      "RET_RATE_2005                      867\n",
      "NUM_OF_ATHLETES_2005               867\n",
      "APR_RATE_2006_1000                 711\n",
      "ELIG_RATE_2006                     711\n",
      "RET_RATE_2006                      711\n",
      "NUM_OF_ATHLETES_2006               711\n",
      "APR_RATE_2007_1000                 644\n",
      "ELIG_RATE_2007                     644\n",
      "RET_RATE_2007                      644\n",
      "NUM_OF_ATHLETES_2007               644\n",
      "APR_RATE_2008_1000                 576\n",
      "ELIG_RATE_2008                     576\n",
      "RET_RATE_2008                      576\n",
      "NUM_OF_ATHLETES_2008               576\n",
      "APR_RATE_2009_1000                 470\n",
      "ELIG_RATE_2009                     470\n",
      "RET_RATE_2009                      470\n",
      "NUM_OF_ATHLETES_2009               470\n",
      "APR_RATE_2010_1000                 417\n",
      "ELIG_RATE_2010                     417\n",
      "RET_RATE_2010                      417\n",
      "NUM_OF_ATHLETES_2010               417\n",
      "APR_RATE_2011_1000                 404\n",
      "ELIG_RATE_2011                     404\n",
      "RET_RATE_2011                      404\n",
      "NUM_OF_ATHLETES_2011               404\n",
      "APR_RATE_2012_1000                 369\n",
      "ELIG_RATE_2012                     369\n",
      "RET_RATE_2012                      369\n",
      "NUM_OF_ATHLETES_2012               369\n",
      "APR_RATE_2013_1000                 348\n",
      "ELIG_RATE_2013                     348\n",
      "RET_RATE_2013                      348\n",
      "NUM_OF_ATHLETES_2013               348\n",
      "APR_RATE_2014_1000                 253\n",
      "ELIG_RATE_2014                     253\n",
      "RET_RATE_2014                      253\n",
      "NUM_OF_ATHLETES_2014               253\n",
      "APR_RATE_2015_1000                 238\n",
      "ELIG_RATE_2015                     238\n",
      "RET_RATE_2015                      238\n",
      "NUM_OF_ATHLETES_2015               238\n",
      "APR_RATE_2016_1000                 194\n",
      "ELIG_RATE_2016                     194\n",
      "RET_RATE_2016                      194\n",
      "NUM_OF_ATHLETES_2016               194\n",
      "APR_RATE_2017_1000                 159\n",
      "ELIG_RATE_2017                     159\n",
      "RET_RATE_2017                      159\n",
      "NUM_OF_ATHLETES_2017               159\n",
      "APR_RATE_2018_1000                 129\n",
      "ELIG_RATE_2018                     129\n",
      "RET_RATE_2018                      129\n",
      "NUM_OF_ATHLETES_2018               129\n",
      "APR_RATE_2019_1000                  84\n",
      "ELIG_RATE_2019                      84\n",
      "RET_RATE_2019                       84\n",
      "NUM_OF_ATHLETES_2019                84\n",
      "MULTIYR_RET_RATE                    15\n",
      "MULTIYR_ELIG_RATE                   15\n",
      "MULTIYR_APR_RATE_1000_CI            15\n",
      "MULTIYR_APR_RATE_1000_RAW           15\n",
      "MULTIYR_SQUAD_SIZE                  15\n",
      "MULTIYR_APR_RATE_1000_OFFICIAL      15\n",
      "dtype: int64\n"
     ]
    }
   ],
   "source": [
    "# Next we will see what columns are still empty.\n",
    "# We will do this by using the isnull() method to check for null values and then summing them up with the sum() method.\n",
    "\n",
    "null_counts = raw_data.isnull().sum()\n",
    "null_counts = null_counts[null_counts > 0]\n",
    "pd.set_option('display.max_columns', None)  #These two rows are used to set the display options for pandas so that all columns and rows are shown when printing the DataFrame.\n",
    "pd.set_option('display.max_rows', None)\n",
    "\n",
    "print(null_counts.sort_values(ascending=False))"
   ]
  },
  {
   "cell_type": "code",
   "execution_count": null,
   "metadata": {},
   "outputs": [],
   "source": [
    "#D1_FB_CONF_19 has a lot of null values, and is slightly redundant with CONFNAME_19 so we will drop it.\n",
    "raw_data.drop(columns=['D1_FB_CONF_19'], inplace=True)\n",
    "# Additionmally, any row with null values in the MULTIYR stats are useless to us so we will drop them as well.\n",
    "raw_data.dropna(subset=['MULTIYR_RET_RATE', 'MULTIYR_APR_RATE_1000_RAW', 'MULTIYR_APR_RATE_1000_CI', 'MULTIYR_APR_RATE_1000_OFFICIAL', 'MULTIYR_SQUAD_SIZE', 'MULTIYR_ELIG_RATE'], inplace=True)\n",
    "# we use the subset paramter to specify which columns we want to check for null values and drop the rows with null values in those columns. https://www.w3schools.com/python/pandas/ref_df_dropna.asp\n",
    "\n"
   ]
  },
  {
   "cell_type": "markdown",
   "metadata": {},
   "source": [
    "The columns remaining are SCL_UNITID (int) which is the id for each column, SCL_NAME (character), the name for the university, Sport_Code (Cateogry) and Sport_Name (chategory) which represent the id and name of the respective sport, Academic_Year(category) the year for that row, SCL_DIV_19 (Category), and SCL_SUB_19 (Category) which represent the NCAA division and subdivision they play in. D1_FB_CONF (character) and CONFNAME (character) which are the schools football and regular conference respectivley. SL_HBCU (category) and SL_Private (category) which is a binary data that shows if a school is HBCU and if a school is private. Then there are MULTIYR_APR_RATE_1000_RAW, MULTIYR_APR_RATE_1000_CI, MULTIYR_APR_RATE_1000_OFFICIAL, RAW_OR_CI, MULTIYR_SQUAD_SIZE, MULTIYR_ELIG_RATE,MULTIYR_RET_RATE which are all numeric and represent multiyear academic stats. Then from each year from 2006-2019 there are APR_RATE_XXXX_1000\tELIG_RATE_XXXX\tRET_RATE_XXX\tNUM_OF_ATHLETES_XXXX which are all numeric and represent single year academic stats. Finally from 2006-2020 there are PUB_AWARD_XX which are categorical values that display if a school got an academic award from the NCAA."
   ]
  },
  {
   "cell_type": "markdown",
   "metadata": {},
   "source": [
    "Next, using the cleaned dataset we will be looking at four different research questions and attempting to answer them by analyzing the dataset.\n",
    "\n",
    "1. How have the retention rates for NCAA schools changed over the available data, from 2004 to 2019? We will be using all of the RET_Rate_XXXX columns where XXXX represents a different year for each column\n",
    "2. Exploratory analysis: How many sports are fielded by each institution, and does that vary between NCAA divisions?  We will be using the SCL_UNITID and SCL_NAME columns as well as the Sport_Code and Sport_Name to analyse the counts of sports by each university. This is important to see if schools generally field the same number of sports or if there's drastic differences between schools and analyze what could be different from schools with a high number of sports and those with a low number.\n",
    "3. What variables are the most positively correlated with multi-year APR, and can we accurately predict what a teams multi-year APR will be given other data? (regression). This will involve using linear regression on the whole dataset to determine which variables are significant.\n",
    "4. Do Private or Public schools have better APR and academic eligibility rates? We will be using the multi-year APR and multi-year academic eligibility columns and SCL_PRIVATE column.\n"
   ]
  }
 ],
 "metadata": {
  "kernelspec": {
   "display_name": "Python 3",
   "language": "python",
   "name": "python3"
  },
  "language_info": {
   "codemirror_mode": {
    "name": "ipython",
    "version": 3
   },
   "file_extension": ".py",
   "mimetype": "text/x-python",
   "name": "python",
   "nbconvert_exporter": "python",
   "pygments_lexer": "ipython3",
   "version": "3.13.1"
  }
 },
 "nbformat": 4,
 "nbformat_minor": 2
}
