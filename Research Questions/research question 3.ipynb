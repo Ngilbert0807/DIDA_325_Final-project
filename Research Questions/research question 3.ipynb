{
 "cells": [
  {
   "cell_type": "code",
   "execution_count": 12,
   "id": "26075c06",
   "metadata": {},
   "outputs": [],
   "source": [
    "import pandas as pd\n",
    "import matplotlib.pyplot as plt\n",
    "import seaborn as sns\n",
    "import numpy as np\n",
    "import statsmodels.api as sm"
   ]
  },
  {
   "cell_type": "markdown",
   "id": "e3a6fde1",
   "metadata": {},
   "source": [
    "What variables are the most positively correlated with multi-year APR, and can we accurately predict what a teams multi-year APR will be given other data? (regression). This will involve using linear regression on the whole dataset to determine which variables are significant.\n",
    "\n",
    "There are a couple of reasons why this is an important question to answer. One being that if the NCAA can predict what teams will have a higher or lower APR it knows which schools and sports it can provide athletes with more resources to help the students. Additionally if the NCAA knows which factors are most important for predicting APR they can know exactly how to help their athletes\n",
    "\n"
   ]
  },
  {
   "cell_type": "code",
   "execution_count": 5,
   "id": "67806fee",
   "metadata": {},
   "outputs": [
    {
     "data": {
      "text/plain": [
       "Index(['SCL_UNITID', 'SCL_NAME', 'SPORT_CODE', 'SPORT_NAME', 'ACADEMIC_YEAR',\n",
       "       'SCL_DIV_19', 'SCL_SUB_19', 'CONFNAME_19', 'SCL_HBCU', 'SCL_PRIVATE',\n",
       "       'MULTIYR_APR_RATE_1000_RAW', 'MULTIYR_APR_RATE_1000_CI',\n",
       "       'MULTIYR_APR_RATE_1000_OFFICIAL', 'RAW_OR_CI', 'MULTIYR_SQUAD_SIZE',\n",
       "       'MULTIYR_ELIG_RATE', 'MULTIYR_RET_RATE', 'APR_RATE_2019_1000',\n",
       "       'ELIG_RATE_2019', 'RET_RATE_2019', 'NUM_OF_ATHLETES_2019',\n",
       "       'APR_RATE_2018_1000', 'ELIG_RATE_2018', 'RET_RATE_2018',\n",
       "       'NUM_OF_ATHLETES_2018', 'APR_RATE_2017_1000', 'ELIG_RATE_2017',\n",
       "       'RET_RATE_2017', 'NUM_OF_ATHLETES_2017', 'APR_RATE_2016_1000',\n",
       "       'ELIG_RATE_2016', 'RET_RATE_2016', 'NUM_OF_ATHLETES_2016',\n",
       "       'APR_RATE_2015_1000', 'ELIG_RATE_2015', 'RET_RATE_2015',\n",
       "       'NUM_OF_ATHLETES_2015', 'APR_RATE_2014_1000', 'ELIG_RATE_2014',\n",
       "       'RET_RATE_2014', 'NUM_OF_ATHLETES_2014', 'APR_RATE_2013_1000',\n",
       "       'ELIG_RATE_2013', 'RET_RATE_2013', 'NUM_OF_ATHLETES_2013',\n",
       "       'APR_RATE_2012_1000', 'ELIG_RATE_2012', 'RET_RATE_2012',\n",
       "       'NUM_OF_ATHLETES_2012', 'APR_RATE_2011_1000', 'ELIG_RATE_2011',\n",
       "       'RET_RATE_2011', 'NUM_OF_ATHLETES_2011', 'APR_RATE_2010_1000',\n",
       "       'ELIG_RATE_2010', 'RET_RATE_2010', 'NUM_OF_ATHLETES_2010',\n",
       "       'APR_RATE_2009_1000', 'ELIG_RATE_2009', 'RET_RATE_2009',\n",
       "       'NUM_OF_ATHLETES_2009', 'APR_RATE_2008_1000', 'ELIG_RATE_2008',\n",
       "       'RET_RATE_2008', 'NUM_OF_ATHLETES_2008', 'APR_RATE_2007_1000',\n",
       "       'ELIG_RATE_2007', 'RET_RATE_2007', 'NUM_OF_ATHLETES_2007',\n",
       "       'APR_RATE_2006_1000', 'ELIG_RATE_2006', 'RET_RATE_2006',\n",
       "       'NUM_OF_ATHLETES_2006', 'APR_RATE_2005_1000', 'ELIG_RATE_2005',\n",
       "       'RET_RATE_2005', 'NUM_OF_ATHLETES_2005', 'APR_RATE_2004_1000',\n",
       "       'ELIG_RATE_2004', 'RET_RATE_2004', 'NUM_OF_ATHLETES_2004',\n",
       "       'PUB_AWARD_20', 'PUB_AWARD_19', 'PUB_AWARD_18', 'PUB_AWARD_17',\n",
       "       'PUB_AWARD_16', 'PUB_AWARD_15', 'PUB_AWARD_14', 'PUB_AWARD_13',\n",
       "       'PUB_AWARD_12', 'PUB_AWARD_11', 'PUB_AWARD_10', 'PUB_AWARD_09',\n",
       "       'PUB_AWARD_08', 'PUB_AWARD_07', 'PUB_AWARD_06'],\n",
       "      dtype='object')"
      ]
     },
     "execution_count": 5,
     "metadata": {},
     "output_type": "execute_result"
    }
   ],
   "source": [
    "data=pd.read_csv('C:/Users/natha/OneDrive/Documents/GitHub/DIDA_325_Final-project/csvs/cleaned_data2.csv')\n",
    "data.columns"
   ]
  },
  {
   "cell_type": "code",
   "execution_count": 17,
   "id": "37fb15bd",
   "metadata": {},
   "outputs": [
    {
     "name": "stdout",
     "output_type": "stream",
     "text": [
      "                                  OLS Regression Results                                  \n",
      "==========================================================================================\n",
      "Dep. Variable:     MULTIYR_APR_RATE_1000_OFFICIAL   R-squared:                       0.896\n",
      "Model:                                        OLS   Adj. R-squared:                  0.896\n",
      "Method:                             Least Squares   F-statistic:                     8643.\n",
      "Date:                            Sun, 27 Apr 2025   Prob (F-statistic):               0.00\n",
      "Time:                                    17:16:42   Log-Likelihood:                -18418.\n",
      "No. Observations:                            6002   AIC:                         3.685e+04\n",
      "Df Residuals:                                5995   BIC:                         3.690e+04\n",
      "Df Model:                                       6                                         \n",
      "Covariance Type:                        nonrobust                                         \n",
      "======================================================================================\n",
      "                         coef    std err          t      P>|t|      [0.025      0.975]\n",
      "--------------------------------------------------------------------------------------\n",
      "const                156.4440      4.170     37.517      0.000     148.269     164.619\n",
      "MULTIYR_SQUAD_SIZE    -0.0156      0.001    -14.673      0.000      -0.018      -0.013\n",
      "SCL_SUB_19             0.1469      0.090      1.628      0.104      -0.030       0.324\n",
      "MULTIYR_ELIG_RATE    424.3209      4.362     97.273      0.000     415.770     432.872\n",
      "MULTIYR_RET_RATE     420.2240      3.811    110.277      0.000     412.754     427.694\n",
      "SCL_HBCU_Y             1.9207      0.323      5.949      0.000       1.288       2.554\n",
      "SCL_PRIVATE_Y         -0.2047      0.153     -1.341      0.180      -0.504       0.095\n",
      "==============================================================================\n",
      "Omnibus:                     3115.200   Durbin-Watson:                   1.850\n",
      "Prob(Omnibus):                  0.000   Jarque-Bera (JB):            30669.823\n",
      "Skew:                           2.284   Prob(JB):                         0.00\n",
      "Kurtosis:                      13.088   Cond. No.                     8.32e+03\n",
      "==============================================================================\n",
      "\n",
      "Notes:\n",
      "[1] Standard Errors assume that the covariance matrix of the errors is correctly specified.\n",
      "[2] The condition number is large, 8.32e+03. This might indicate that there are\n",
      "strong multicollinearity or other numerical problems.\n"
     ]
    }
   ],
   "source": [
    "x_columns=['SCL_HBCU', 'SCL_PRIVATE', 'MULTIYR_SQUAD_SIZE', 'SCL_SUB_19', 'MULTIYR_ELIG_RATE', 'MULTIYR_RET_RATE'] # these are all the columns that will be used as predictive variables\n",
    "X=data[x_columns] \n",
    "X = pd.get_dummies(X, drop_first=True).astype(\"float32\") #For SCL_HCU and SCL_PRIVATE, we need to convert them to numeric values. We use get_dummies to convert them to binary variables. .\n",
    "y=data['MULTIYR_APR_RATE_1000_OFFICIAL'] #This is our response variable, the APR for each team\n",
    "X = sm.tools.tools.add_constant(X) #Add a constant to the model. This is necessary for the OLS regression model.\n",
    "model=sm.OLS(y, X).fit() \n",
    "print(model.summary())"
   ]
  }
 ],
 "metadata": {
  "kernelspec": {
   "display_name": "Python 3",
   "language": "python",
   "name": "python3"
  },
  "language_info": {
   "codemirror_mode": {
    "name": "ipython",
    "version": 3
   },
   "file_extension": ".py",
   "mimetype": "text/x-python",
   "name": "python",
   "nbconvert_exporter": "python",
   "pygments_lexer": "ipython3",
   "version": "3.13.1"
  }
 },
 "nbformat": 4,
 "nbformat_minor": 5
}
